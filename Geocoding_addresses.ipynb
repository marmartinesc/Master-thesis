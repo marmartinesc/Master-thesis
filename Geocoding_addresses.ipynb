{
 "cells": [
  {
   "cell_type": "markdown",
   "id": "09bf655b-1ef0-4d66-a1d8-38bf57ae66cd",
   "metadata": {},
   "source": [
    "### Import required libraries"
   ]
  },
  {
   "cell_type": "code",
   "execution_count": null,
   "id": "5ee02a7f-22e7-4020-9901-ce14d1534aca",
   "metadata": {},
   "outputs": [],
   "source": [
    "import sqlite3 as db\n",
    "import os\n",
    "import re\n",
    "import xml.etree.ElementTree as et\n",
    "import pandas as pd"
   ]
  },
  {
   "cell_type": "markdown",
   "id": "ab76b69f-9f06-4355-b506-f25226e0412f",
   "metadata": {},
   "source": [
    "### Load database with names of companies and addresses"
   ]
  },
  {
   "cell_type": "code",
   "execution_count": null,
   "id": "e488d93f-c2a8-480c-a5a1-d7bd5d6497ac",
   "metadata": {},
   "outputs": [],
   "source": [
    "conn = db.connect('database.db')\n",
    "df = pd.read_sql_query('select * from dataset1', conn)\n",
    "conn.close()"
   ]
  },
  {
   "cell_type": "markdown",
   "id": "4cf807e5-0770-440f-8a32-3d26846af459",
   "metadata": {},
   "source": [
    "## Geocoding with Nominatim: geocoding in subsets of 100 companies to handle large quantities of data"
   ]
  },
  {
   "cell_type": "code",
   "execution_count": null,
   "id": "2b456bf9-3196-4d7a-b2bf-2688b53de47c",
   "metadata": {},
   "outputs": [],
   "source": [
    "from geopy.geocoders import Nominatim\n",
    "\n",
    "geolocator = Nominatim(user_agent=\"myApp\")\n",
    "\n",
    "# Define the starting row and subset size\n",
    "start_row = 0\n",
    "subset_size = 100\n",
    "total_rows = len(df)\n",
    "\n",
    "# Loop through the DataFrame in subsets\n",
    "for start in range(start_row, total_rows, subset_size):\n",
    "    end = min(start + subset_size, total_rows)\n",
    "    df_subset = df.iloc[start:end].copy()\n",
    "\n",
    "    # Add new columns for latitude, longitude, and full address\n",
    "    df_subset['location_lat'] = None\n",
    "    df_subset['location_long'] = None\n",
    "    df_subset['location_address'] = None\n",
    "\n",
    "    for i in df_subset.index:\n",
    "        try:\n",
    "            location = geolocator.geocode(df_subset.loc[i, 'Address'])\n",
    "            if location:\n",
    "                df_subset.loc[i, 'location_lat'] = location.latitude\n",
    "                df_subset.loc[i, 'location_long'] = location.longitude\n",
    "                df_subset.loc[i, 'location_address'] = location.address\n",
    "        except:\n",
    "            df_subset.loc[i, 'location_lat'] = None\n",
    "            df_subset.loc[i, 'location_long'] = None\n",
    "            df_subset.loc[i, 'location_address'] = None\n",
    "\n",
    "    # Connect to your SQLite database \n",
    "    con = db.connect('database.db')\n",
    "    df_subset.to_sql(\"dataset1_locations\", con, if_exists=\"append\", index=False)\n",
    "    con.commit()\n",
    "    con.close()\n",
    "\n",
    "    print(f\"Subset of rows {start} to {end} has been covered.\")"
   ]
  },
  {
   "cell_type": "markdown",
   "id": "11734ee0-36e5-45de-8f55-9e01ff6009be",
   "metadata": {},
   "source": [
    "## Now geocode addresses not found with Nominatim by using the Google Maps API"
   ]
  },
  {
   "cell_type": "markdown",
   "id": "b088a40c-9ad1-4d54-9f26-020c03281da7",
   "metadata": {},
   "source": [
    "### First, data is loaded from the dataset and the companies for which coordinates were not found are selected"
   ]
  },
  {
   "cell_type": "code",
   "execution_count": null,
   "id": "67ac0e50-35cd-45eb-b18c-f63dfb78c147",
   "metadata": {},
   "outputs": [],
   "source": [
    "con = db.connect('database.db')\n",
    "\n",
    "# Load the table data into a pandas DataFrame\n",
    "df = pd.read_sql_query('SELECT * FROM dataset1_locations', con)\n",
    "\n",
    "\n",
    "# Commit the changes and close the connection\n",
    "con.commit()\n",
    "con.close()"
   ]
  },
  {
   "cell_type": "code",
   "execution_count": null,
   "id": "a87447ee-b1f7-4da9-918c-ecb1deba55d8",
   "metadata": {},
   "outputs": [],
   "source": [
    "# Create a new DataFrame with rows where 'Address' is NaN\n",
    "df_with_nan_location = df[df['location_address'].isna()]\n",
    "df_with_nan_location"
   ]
  },
  {
   "cell_type": "code",
   "execution_count": null,
   "id": "5d61022a-49d7-436f-b10f-bc8a5812dd3e",
   "metadata": {},
   "outputs": [],
   "source": [
    "import googlemaps\n",
    "from datetime import datetime\n",
    "\n",
    "# Initialize the Google Maps client with your API key\n",
    "gmaps = googlemaps.Client(key='Your_Google_Maps_API_Key')\n",
    "\n",
    "# Function to geocode an address and return location details using Google Maps API\n",
    "def geocode_address_google(address):\n",
    "    try:\n",
    "        # Geocode the address\n",
    "        geocode_result = gmaps.geocode(address)\n",
    "        \n",
    "        if geocode_result:\n",
    "            # Extract latitude and longitude\n",
    "            location = geocode_result[0]['geometry']['location']\n",
    "            latitude = location['lat']\n",
    "            longitude = location['lng']\n",
    "            \n",
    "            # Extract formatted address\n",
    "            full_address = geocode_result[0]['formatted_address']\n",
    "            \n",
    "            # Extract postal code\n",
    "            postal_code = None\n",
    "            for component in geocode_result[0]['address_components']:\n",
    "                if 'postal_code' in component['types']:\n",
    "                    postal_code = component['long_name']\n",
    "                    break\n",
    "            \n",
    "            return pd.Series([latitude, longitude, full_address, postal_code])\n",
    "        else:\n",
    "            print(f\"No results found for address: {address}\")\n",
    "            return pd.Series([None, None, None, None])\n",
    "    \n",
    "    except Exception as e:\n",
    "        print(f\"Error geocoding address {address}: {e}\")\n",
    "        return pd.Series([None, None, None, None])\n",
    "\n",
    "# Ensure you are working with a copy if necessary\n",
    "df_google = df_with_nan_location.copy()\n",
    "# Apply the geocoding function to each address in the DataFrame\n",
    "df_google[['location_lat', 'location_long', 'location_address', 'zip']] = df_google['Address'].apply(geocode_address_google)"
   ]
  },
  {
   "cell_type": "markdown",
   "id": "f63d03e6-8d29-4e95-a411-0ff527af14dd",
   "metadata": {},
   "source": [
    "## Finally, concatenate both dataframes"
   ]
  },
  {
   "cell_type": "code",
   "execution_count": null,
   "id": "56cd7668-4c73-4c7a-8c2a-9daeb564bc38",
   "metadata": {},
   "outputs": [],
   "source": [
    "merged_df = pd.concat([df, df_google])\n",
    "df_cleaned = merged_df[pd.notna(merged_df['Postal_code'])]"
   ]
  }
 ],
 "metadata": {
  "kernelspec": {
   "display_name": "Python 3 (ipykernel)",
   "language": "python",
   "name": "python3"
  },
  "language_info": {
   "codemirror_mode": {
    "name": "ipython",
    "version": 3
   },
   "file_extension": ".py",
   "mimetype": "text/x-python",
   "name": "python",
   "nbconvert_exporter": "python",
   "pygments_lexer": "ipython3",
   "version": "3.11.7"
  }
 },
 "nbformat": 4,
 "nbformat_minor": 5
}
