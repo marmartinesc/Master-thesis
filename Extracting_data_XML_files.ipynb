{
 "cells": [
  {
   "cell_type": "markdown",
   "id": "605bdd4b-aa5b-486e-be18-ad77b148de7d",
   "metadata": {},
   "source": [
    "### Import required libraries"
   ]
  },
  {
   "cell_type": "code",
   "execution_count": null,
   "id": "655a785c-f289-49f8-87d9-ab4564582568",
   "metadata": {},
   "outputs": [],
   "source": [
    "import os\n",
    "import re\n",
    "import xml.etree.ElementTree as et\n",
    "import pandas as pd"
   ]
  },
  {
   "cell_type": "markdown",
   "id": "3168781b-a0de-4cc6-bf6e-846bedbf0afc",
   "metadata": {},
   "source": [
    "### Set up download directory and extract the data from all XML files, to then place it in a dataframe"
   ]
  },
  {
   "cell_type": "code",
   "execution_count": null,
   "id": "ac9049f2-4ddf-4bae-9cfc-99f743df0ba1",
   "metadata": {},
   "outputs": [],
   "source": [
    "# Directory containing XML files\n",
    "download_directory = r\"Your_directory\"\n",
    "\n",
    "# List to store the extracted data\n",
    "data = []\n",
    "\n",
    "# Updated regular expression to extract reference number from the filename\n",
    "reference_number_pattern = re.compile(r'_(HR[AB])_(\\d+)(_[a-zA-Z0-9]+)?\\+')\n",
    "\n",
    "# Iterate over XML files in the download directory\n",
    "for xml_file in os.listdir(download_directory):\n",
    "    if xml_file.endswith(\".xml\"):\n",
    "        xml_file_path = os.path.join(download_directory, xml_file)\n",
    "        \n",
    "        with open(xml_file_path, \"r\", encoding=\"utf-8\") as file:\n",
    "            xml_content = file.read()\n",
    "\n",
    "        try:\n",
    "            # Parse the XML content\n",
    "            xml_tree = et.fromstring(xml_content)\n",
    "\n",
    "            # Define the namespaces\n",
    "            namespaces = {\n",
    "                'xjustiz': 'http://www.xjustiz.de'\n",
    "            }\n",
    "\n",
    "            # Extract the company name\n",
    "            company_name_elem = xml_tree.find(\".//xjustiz:grunddaten/xjustiz:verfahrensdaten/xjustiz:beteiligung/xjustiz:beteiligter/xjustiz:auswahl_beteiligter/xjustiz:organisation/xjustiz:bezeichnung/xjustiz:bezeichnung.aktuell\", namespaces)\n",
    "            company_name = company_name_elem.text if company_name_elem is not None else \"Unknown\"\n",
    "\n",
    "            if company_name == \"Unknown\":\n",
    "                print(f\"Company name not found in file: {xml_file}\")\n",
    "\n",
    "            # Extract the reference number from the filename\n",
    "            match = reference_number_pattern.search(xml_file)\n",
    "            if match:\n",
    "                reference_number = f\"{match.group(1)}_{match.group(2)}\"\n",
    "            else:\n",
    "                reference_number = \"Unknown\"\n",
    "               \n",
    "            # Extract the address details\n",
    "            house_number_elem = xml_tree.find(\".//xjustiz:grunddaten/xjustiz:verfahrensdaten/xjustiz:beteiligung/xjustiz:beteiligter/xjustiz:auswahl_beteiligter/xjustiz:organisation/xjustiz:anschrift/xjustiz:hausnummer\", namespaces)\n",
    "            street_elem = xml_tree.find(\".//xjustiz:grunddaten/xjustiz:verfahrensdaten/xjustiz:beteiligung/xjustiz:beteiligter/xjustiz:auswahl_beteiligter/xjustiz:organisation/xjustiz:anschrift/xjustiz:strasse\", namespaces)\n",
    "            postal_code_elem = xml_tree.find(\".//xjustiz:grunddaten/xjustiz:verfahrensdaten/xjustiz:beteiligung/xjustiz:beteiligter/xjustiz:auswahl_beteiligter/xjustiz:organisation/xjustiz:anschrift/xjustiz:postleitzahl\", namespaces)\n",
    "            place_elem = xml_tree.find(\".//xjustiz:grunddaten/xjustiz:verfahrensdaten/xjustiz:beteiligung/xjustiz:beteiligter/xjustiz:auswahl_beteiligter/xjustiz:organisation/xjustiz:anschrift/xjustiz:ort\", namespaces)\n",
    "            \n",
    "            house_number = house_number_elem.text if house_number_elem is not None else \"Unknown\"\n",
    "            street = street_elem.text if street_elem is not None else \"Unknown\"\n",
    "            postal_code = postal_code_elem.text if postal_code_elem is not None else \"Unknown\"\n",
    "            place = place_elem.text if place_elem is not None else \"Unknown\"\n",
    "\n",
    "            # Extract capital values\n",
    "            stammkapital_value = xml_tree.find(\".//xjustiz:fachdatenRegister/xjustiz:auswahl_zusatzangaben/xjustiz:kapitalgesellschaft/xjustiz:zusatzGmbH/xjustiz:stammkapital/xjustiz:zahl\", namespaces)\n",
    "            grundkapital_value = xml_tree.find(\".//xjustiz:fachdatenRegister/xjustiz:auswahl_zusatzangaben/xjustiz:kapitalgesellschaft/xjustiz:zusatzAktiengesellschaft/xjustiz:grundkapital/xjustiz:hoehe/xjustiz:zahl\", namespaces)\n",
    "            hafteinlage_value = xml_tree.find(\".//xjustiz:fachdatenRegister/xjustiz:auswahl_zusatzangaben/xjustiz:personengesellschaft/xjustiz:zusatzGmbH/xjustiz:datenKommanditist/xjustiz:hafteinlage/xjustiz:zahl\", namespaces)\n",
    "            if hafteinlage_value is None:\n",
    "                hafteinlage_value = xml_tree.find(\".//xjustiz:fachdatenRegister/xjustiz:auswahl_zusatzangaben/xjustiz:personengesellschaft/xjustiz:zusatzKG/xjustiz:datenKommanditist/xjustiz:hafteinlage/xjustiz:zahl\", namespaces)\n",
    "            \n",
    "            stammkapital = stammkapital_value.text if stammkapital_value is not None else \"0\"\n",
    "            grundkapital = grundkapital_value.text if grundkapital_value is not None else \"0\"\n",
    "            hafteinlage = hafteinlage_value.text if hafteinlage_value is not None else \"0\"\n",
    "        \n",
    "            # Add the extracted data to the list\n",
    "            data.append({\n",
    "                \"Name\": company_name,\n",
    "                \"Reference_number\": reference_number,\n",
    "                \"Stammkapital\": stammkapital,\n",
    "                \"Hafteinlage\": hafteinlage,\n",
    "                \"Grundkapital\": grundkapital,\n",
    "                \"House_number\": house_number,\n",
    "                \"Street\": street,\n",
    "                \"Postal_code\": postal_code,\n",
    "                \"Place\": place\n",
    "            })\n",
    "\n",
    "        except et.ParseError as e:\n",
    "            print(f\"Error parsing XML file {xml_file}: {e}\")\n",
    "            continue\n",
    "\n",
    "# Create a DataFrame from the collected data\n",
    "df = pd.DataFrame(data)\n",
    "\n",
    "# Display the final DataFrame\n",
    "print(df)"
   ]
  }
 ],
 "metadata": {
  "kernelspec": {
   "display_name": "Python 3 (ipykernel)",
   "language": "python",
   "name": "python3"
  },
  "language_info": {
   "codemirror_mode": {
    "name": "ipython",
    "version": 3
   },
   "file_extension": ".py",
   "mimetype": "text/x-python",
   "name": "python",
   "nbconvert_exporter": "python",
   "pygments_lexer": "ipython3",
   "version": "3.11.7"
  }
 },
 "nbformat": 4,
 "nbformat_minor": 5
}
